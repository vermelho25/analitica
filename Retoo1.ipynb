{
  "nbformat": 4,
  "nbformat_minor": 0,
  "metadata": {
    "colab": {
      "provenance": [],
      "include_colab_link": true
    },
    "kernelspec": {
      "name": "python3",
      "display_name": "Python 3"
    },
    "language_info": {
      "name": "python"
    }
  },
  "cells": [
    {
      "cell_type": "markdown",
      "metadata": {
        "id": "view-in-github",
        "colab_type": "text"
      },
      "source": [
        "<a href=\"https://colab.research.google.com/github/vermelho25/analitica/blob/main/Retoo1.ipynb\" target=\"_parent\"><img src=\"https://colab.research.google.com/assets/colab-badge.svg\" alt=\"Open In Colab\"/></a>"
      ]
    },
    {
      "cell_type": "code",
      "source": [
        "import numpy as np\n",
        "import pandas as pd\n",
        "from sklearn.naive_bayes import GaussianNB\n",
        "\n",
        "# Cargar el archivo de excel\n",
        "path = '/content/sample_data/1. BD2_CarCrash_Int.xlsx'\n",
        "dataframe = pd.read_excel(path)\n",
        "\n",
        "# Tomar San Francisco\n",
        "dataframe2 = dataframe[dataframe['County'] == 'SAN FRANCISCO']\n",
        "\n",
        "# Variables de interés\n",
        "dataframe3 = dataframe2[['Weekday', 'ViolCat', 'Daylight', 'Month', 'CrashType', 'ClearWeather', 'Highway']]\n",
        "\n",
        "# Convertir CrashType a valores numéricos según orden alfabético\n",
        "dataframe3.loc[:, 'CrashType'] = dataframe3['CrashType'].astype('category').cat.codes\n",
        "\n",
        "# Filtrar registros vacios\n",
        "dataframe3.dropna(inplace=True)\n",
        "\n",
        "# Definir variables de entrada y salida\n",
        "XD = dataframe3[['Weekday', 'ViolCat', 'Daylight', 'Month', 'CrashType', 'ClearWeather']]\n",
        "yd = dataframe3[['Highway']]\n",
        "\n",
        "# Entrenar modelo Naive Bayes\n",
        "mnb = GaussianNB()\n",
        "mnb.fit(XD, yd.values.ravel())\n",
        "\n",
        "\n",
        "###ELIMINAR\n",
        "# Obtener información del modelo\n",
        "ct = mnb.class_count_\n",
        "print(\"Distribución de los datos:\", ct)\n",
        "print(\"Total de datos:\", len(XD))\n",
        "print(\"Porcentaje por categoría:\", ct / len(XD))\n",
        "\n",
        "# Calcular medias y desviaciones estándar por categoría\n",
        "u = mnb.theta_\n",
        "std = np.sqrt(mnb.var_)\n",
        "print(\"Media por categoría:\\n\", u)\n",
        "print(\"Desviación estándar por categoría:\\n\", std)\n"
      ],
      "metadata": {
        "colab": {
          "base_uri": "https://localhost:8080/"
        },
        "id": "7EdLVIk1uCJz",
        "outputId": "6fa0c772-6bf9-49f8-b651-f880837afbac"
      },
      "execution_count": 1,
      "outputs": [
        {
          "output_type": "stream",
          "name": "stdout",
          "text": [
            "Distribución de los datos: [1580.  501.]\n",
            "Total de datos: 2081\n",
            "Porcentaje por categoría: [0.75925036 0.24074964]\n",
            "Media por categoría:\n",
            " [[3.88417722 7.45696203 0.66265823 4.35189873 3.21772152 0.86265823]\n",
            " [3.9261477  4.1497006  0.62075848 6.69461078 2.27744511 0.79840319]]\n",
            "Desviación estándar por categoría:\n",
            " [[1.95062542 3.52136997 0.47280262 2.3433645  1.87371962 0.34420782]\n",
            " [2.01603723 2.16198902 0.48519831 3.44163641 1.05765448 0.40119266]]\n"
          ]
        },
        {
          "output_type": "stream",
          "name": "stderr",
          "text": [
            "<ipython-input-1-ef370afec497>:19: SettingWithCopyWarning: \n",
            "A value is trying to be set on a copy of a slice from a DataFrame\n",
            "\n",
            "See the caveats in the documentation: https://pandas.pydata.org/pandas-docs/stable/user_guide/indexing.html#returning-a-view-versus-a-copy\n",
            "  dataframe3.dropna(inplace=True)\n"
          ]
        }
      ]
    },
    {
      "cell_type": "code",
      "source": [
        "from google.colab import drive\n",
        "drive.mount('/content/drive')"
      ],
      "metadata": {
        "colab": {
          "base_uri": "https://localhost:8080/",
          "height": 321
        },
        "id": "qfMXluOCS6zP",
        "outputId": "bd167ce3-6581-4fd4-a1bb-ad2e063b65df"
      },
      "execution_count": 2,
      "outputs": [
        {
          "output_type": "error",
          "ename": "MessageError",
          "evalue": "Error: credential propagation was unsuccessful",
          "traceback": [
            "\u001b[0;31m---------------------------------------------------------------------------\u001b[0m",
            "\u001b[0;31mMessageError\u001b[0m                              Traceback (most recent call last)",
            "\u001b[0;32m<ipython-input-2-d5df0069828e>\u001b[0m in \u001b[0;36m<cell line: 0>\u001b[0;34m()\u001b[0m\n\u001b[1;32m      1\u001b[0m \u001b[0;32mfrom\u001b[0m \u001b[0mgoogle\u001b[0m\u001b[0;34m.\u001b[0m\u001b[0mcolab\u001b[0m \u001b[0;32mimport\u001b[0m \u001b[0mdrive\u001b[0m\u001b[0;34m\u001b[0m\u001b[0;34m\u001b[0m\u001b[0m\n\u001b[0;32m----> 2\u001b[0;31m \u001b[0mdrive\u001b[0m\u001b[0;34m.\u001b[0m\u001b[0mmount\u001b[0m\u001b[0;34m(\u001b[0m\u001b[0;34m'/content/drive'\u001b[0m\u001b[0;34m)\u001b[0m\u001b[0;34m\u001b[0m\u001b[0;34m\u001b[0m\u001b[0m\n\u001b[0m",
            "\u001b[0;32m/usr/local/lib/python3.11/dist-packages/google/colab/drive.py\u001b[0m in \u001b[0;36mmount\u001b[0;34m(mountpoint, force_remount, timeout_ms, readonly)\u001b[0m\n\u001b[1;32m     98\u001b[0m \u001b[0;32mdef\u001b[0m \u001b[0mmount\u001b[0m\u001b[0;34m(\u001b[0m\u001b[0mmountpoint\u001b[0m\u001b[0;34m,\u001b[0m \u001b[0mforce_remount\u001b[0m\u001b[0;34m=\u001b[0m\u001b[0;32mFalse\u001b[0m\u001b[0;34m,\u001b[0m \u001b[0mtimeout_ms\u001b[0m\u001b[0;34m=\u001b[0m\u001b[0;36m120000\u001b[0m\u001b[0;34m,\u001b[0m \u001b[0mreadonly\u001b[0m\u001b[0;34m=\u001b[0m\u001b[0;32mFalse\u001b[0m\u001b[0;34m)\u001b[0m\u001b[0;34m:\u001b[0m\u001b[0;34m\u001b[0m\u001b[0;34m\u001b[0m\u001b[0m\n\u001b[1;32m     99\u001b[0m   \u001b[0;34m\"\"\"Mount your Google Drive at the specified mountpoint path.\"\"\"\u001b[0m\u001b[0;34m\u001b[0m\u001b[0;34m\u001b[0m\u001b[0m\n\u001b[0;32m--> 100\u001b[0;31m   return _mount(\n\u001b[0m\u001b[1;32m    101\u001b[0m       \u001b[0mmountpoint\u001b[0m\u001b[0;34m,\u001b[0m\u001b[0;34m\u001b[0m\u001b[0;34m\u001b[0m\u001b[0m\n\u001b[1;32m    102\u001b[0m       \u001b[0mforce_remount\u001b[0m\u001b[0;34m=\u001b[0m\u001b[0mforce_remount\u001b[0m\u001b[0;34m,\u001b[0m\u001b[0;34m\u001b[0m\u001b[0;34m\u001b[0m\u001b[0m\n",
            "\u001b[0;32m/usr/local/lib/python3.11/dist-packages/google/colab/drive.py\u001b[0m in \u001b[0;36m_mount\u001b[0;34m(mountpoint, force_remount, timeout_ms, ephemeral, readonly)\u001b[0m\n\u001b[1;32m    135\u001b[0m   )\n\u001b[1;32m    136\u001b[0m   \u001b[0;32mif\u001b[0m \u001b[0mephemeral\u001b[0m\u001b[0;34m:\u001b[0m\u001b[0;34m\u001b[0m\u001b[0;34m\u001b[0m\u001b[0m\n\u001b[0;32m--> 137\u001b[0;31m     _message.blocking_request(\n\u001b[0m\u001b[1;32m    138\u001b[0m         \u001b[0;34m'request_auth'\u001b[0m\u001b[0;34m,\u001b[0m\u001b[0;34m\u001b[0m\u001b[0;34m\u001b[0m\u001b[0m\n\u001b[1;32m    139\u001b[0m         \u001b[0mrequest\u001b[0m\u001b[0;34m=\u001b[0m\u001b[0;34m{\u001b[0m\u001b[0;34m'authType'\u001b[0m\u001b[0;34m:\u001b[0m \u001b[0;34m'dfs_ephemeral'\u001b[0m\u001b[0;34m}\u001b[0m\u001b[0;34m,\u001b[0m\u001b[0;34m\u001b[0m\u001b[0;34m\u001b[0m\u001b[0m\n",
            "\u001b[0;32m/usr/local/lib/python3.11/dist-packages/google/colab/_message.py\u001b[0m in \u001b[0;36mblocking_request\u001b[0;34m(request_type, request, timeout_sec, parent)\u001b[0m\n\u001b[1;32m    174\u001b[0m       \u001b[0mrequest_type\u001b[0m\u001b[0;34m,\u001b[0m \u001b[0mrequest\u001b[0m\u001b[0;34m,\u001b[0m \u001b[0mparent\u001b[0m\u001b[0;34m=\u001b[0m\u001b[0mparent\u001b[0m\u001b[0;34m,\u001b[0m \u001b[0mexpect_reply\u001b[0m\u001b[0;34m=\u001b[0m\u001b[0;32mTrue\u001b[0m\u001b[0;34m\u001b[0m\u001b[0;34m\u001b[0m\u001b[0m\n\u001b[1;32m    175\u001b[0m   )\n\u001b[0;32m--> 176\u001b[0;31m   \u001b[0;32mreturn\u001b[0m \u001b[0mread_reply_from_input\u001b[0m\u001b[0;34m(\u001b[0m\u001b[0mrequest_id\u001b[0m\u001b[0;34m,\u001b[0m \u001b[0mtimeout_sec\u001b[0m\u001b[0;34m)\u001b[0m\u001b[0;34m\u001b[0m\u001b[0;34m\u001b[0m\u001b[0m\n\u001b[0m",
            "\u001b[0;32m/usr/local/lib/python3.11/dist-packages/google/colab/_message.py\u001b[0m in \u001b[0;36mread_reply_from_input\u001b[0;34m(message_id, timeout_sec)\u001b[0m\n\u001b[1;32m    101\u001b[0m     ):\n\u001b[1;32m    102\u001b[0m       \u001b[0;32mif\u001b[0m \u001b[0;34m'error'\u001b[0m \u001b[0;32min\u001b[0m \u001b[0mreply\u001b[0m\u001b[0;34m:\u001b[0m\u001b[0;34m\u001b[0m\u001b[0;34m\u001b[0m\u001b[0m\n\u001b[0;32m--> 103\u001b[0;31m         \u001b[0;32mraise\u001b[0m \u001b[0mMessageError\u001b[0m\u001b[0;34m(\u001b[0m\u001b[0mreply\u001b[0m\u001b[0;34m[\u001b[0m\u001b[0;34m'error'\u001b[0m\u001b[0;34m]\u001b[0m\u001b[0;34m)\u001b[0m\u001b[0;34m\u001b[0m\u001b[0;34m\u001b[0m\u001b[0m\n\u001b[0m\u001b[1;32m    104\u001b[0m       \u001b[0;32mreturn\u001b[0m \u001b[0mreply\u001b[0m\u001b[0;34m.\u001b[0m\u001b[0mget\u001b[0m\u001b[0;34m(\u001b[0m\u001b[0;34m'data'\u001b[0m\u001b[0;34m,\u001b[0m \u001b[0;32mNone\u001b[0m\u001b[0;34m)\u001b[0m\u001b[0;34m\u001b[0m\u001b[0;34m\u001b[0m\u001b[0m\n\u001b[1;32m    105\u001b[0m \u001b[0;34m\u001b[0m\u001b[0m\n",
            "\u001b[0;31mMessageError\u001b[0m: Error: credential propagation was unsuccessful"
          ]
        }
      ]
    },
    {
      "cell_type": "code",
      "source": [
        "#1\n",
        "num_datos = dataframe.shape[0]\n",
        "num_datos_sf = dataframe3.shape[0]\n",
        "print(\"El total de todos los datos, sin filtrar San Francisco es:\", num_datos)\n",
        "print(\"El total de todos los datos, filtrando San Francisco es:\", num_datos_sf)\n",
        "\n",
        "#2\n",
        "print(\"Porcentaje por categoría:\", ct / len(XD))"
      ],
      "metadata": {
        "colab": {
          "base_uri": "https://localhost:8080/"
        },
        "id": "9kALEAfdyJtE",
        "outputId": "a5aff4ed-bd35-44e7-f8a9-fb01f6e89a72"
      },
      "execution_count": 4,
      "outputs": [
        {
          "output_type": "stream",
          "name": "stdout",
          "text": [
            "El total de todos los datos, sin filtrar San Francisco es: 112660\n",
            "El total de todos los datos, filtrando San Francisco es: 2081\n",
            "Porcentaje por categoría: [0.75925036 0.24074964]\n"
          ]
        }
      ]
    },
    {
      "cell_type": "code",
      "source": [
        "#3 Dias de la semana\n",
        "print(\"Dias de la semana\")\n",
        "intervalos = dataframe3.groupby('Highway')['Weekday'].agg(['mean', 'std'])\n",
        "\n",
        "limite_inferior = intervalos['mean'] - intervalos['std']\n",
        "limite_superior = intervalos['mean'] + intervalos['std']\n",
        "\n",
        "print(limite_inferior)\n",
        "print(limite_superior)\n",
        "\n",
        "#4 Violcat\n",
        "print(\"Violcat\")\n",
        "intervalos2 = dataframe3.groupby('Highway')['ViolCat'].agg(['mean', 'std'])\n",
        "\n",
        "limite_inferior2 = intervalos2['mean'] - intervalos2['std']\n",
        "limite_superior2 = intervalos2['mean'] + intervalos2['std']\n",
        "\n",
        "print(limite_inferior2)\n",
        "print(limite_superior2)\n",
        "\n",
        "#5 Crashtype\n",
        "print(\"Crashtype\")\n",
        "intervalos3 = dataframe3.groupby('Highway')['CrashType'].agg(['mean', 'std'])\n",
        "\n",
        "limite_inferior3 = intervalos3['mean'] - intervalos3['std']\n",
        "limite_superior3 = intervalos3['mean'] + intervalos3['std']\n",
        "\n",
        "print(limite_inferior3)\n",
        "print(limite_superior3)\n",
        "\n",
        "\n"
      ],
      "metadata": {
        "colab": {
          "base_uri": "https://localhost:8080/"
        },
        "id": "auqh-XKg7INk",
        "outputId": "f03cd7c8-08bb-4474-9b90-60fbbb608b5a"
      },
      "execution_count": 5,
      "outputs": [
        {
          "output_type": "stream",
          "name": "stdout",
          "text": [
            "Dias de la semana\n",
            "Highway\n",
            "0    1.932934\n",
            "1    1.908095\n",
            "dtype: float64\n",
            "Highway\n",
            "0    5.83542\n",
            "1    5.94420\n",
            "dtype: float64\n",
            "Violcat\n",
            "Highway\n",
            "0    3.934477\n",
            "1    1.985551\n",
            "dtype: float64\n",
            "Highway\n",
            "0    10.979447\n",
            "1     6.313851\n",
            "dtype: float64\n",
            "Crashtype\n",
            "Highway\n",
            "0    1.343409\n",
            "1    1.218734\n",
            "dtype: object\n",
            "Highway\n",
            "0    5.092034\n",
            "1    3.336157\n",
            "dtype: object\n"
          ]
        }
      ]
    },
    {
      "cell_type": "markdown",
      "source": [
        "Entre los hallazgos menciono que la media de weedays es aproximadamente 3,9. Lo cual indica que en promedio la mayoría de choques se da entre martes y miercoles (considerando un calendario donde el primer día es domingo) los límites superior e inferior siento que no me indican nada ya que los números en este caso solo son una decodificación, más los días de la semana no conllevan una escala. Crashtype que es otra variable codificada tuvo como promedio 3,2 para accidentes fuera de carretera y 2,27 para accidentes en carretera, lo que indica que los accidentes fueron de tipo entre B y C en promedio.\n",
        "Y en cuanto al ViolCat, para los accidentes en carretera osciló en un valor de dispersión entre 1,98 y 6,3. Mientras que en los que fueron fuera de carretera osciló entre 3,93 y 10,97.\n",
        "\n"
      ],
      "metadata": {
        "id": "QscDnBhzkGwb"
      }
    },
    {
      "cell_type": "code",
      "source": [
        "from sklearn.metrics import confusion_matrix\n",
        "\n",
        "ydp = mnb.predict(XD)\n",
        "cm=confusion_matrix(yd,ydp)\n",
        "VN=cm [0,0];FP=cm[0,1];FN=cm[1,0];VP=cm[1,1]\n",
        "\n",
        "#6\n",
        "Ex=(VN+VP)/(VN+FP+FN+VP)\n",
        "print(\"la exactitud es:\\n\", Ex)\n",
        "\n",
        "#7\n",
        "Esp=VN/(VN+FP)\n",
        "print(\"la especificidad es:\\n\", Esp)"
      ],
      "metadata": {
        "colab": {
          "base_uri": "https://localhost:8080/"
        },
        "id": "O2Nm5Vht9FJf",
        "outputId": "ef916e71-40cb-4836-e160-8d1d441b5904"
      },
      "execution_count": 6,
      "outputs": [
        {
          "output_type": "stream",
          "name": "stdout",
          "text": [
            "la exactitud es:\n",
            " 0.7890437289764536\n",
            "la especificidad es:\n",
            " 0.8639240506329114\n"
          ]
        }
      ]
    },
    {
      "cell_type": "markdown",
      "source": [
        "La exactitud en términos generales es buena, del 78,9%. Podría ser mejor. En cuanto a especificidad, es bastante alta, significa que los verdaderos son bien identificados y el modelo sabe descartarlos correctamente en su gran mayoría."
      ],
      "metadata": {
        "id": "3pl-7Hm-ocei"
      }
    },
    {
      "cell_type": "code",
      "source": [
        "#8\n",
        "print(\"Verdaderos negativos y verdaderos positivos:\\n\", cm)"
      ],
      "metadata": {
        "colab": {
          "base_uri": "https://localhost:8080/"
        },
        "id": "4TqM7KKTHB8U",
        "outputId": "777521af-dad4-4649-ae20-f2a468df9a93"
      },
      "execution_count": 7,
      "outputs": [
        {
          "output_type": "stream",
          "name": "stdout",
          "text": [
            "Verdaderos negativos y verdaderos positivos:\n",
            " [[1365  215]\n",
            " [ 224  277]]\n"
          ]
        }
      ]
    },
    {
      "cell_type": "markdown",
      "source": [
        "Tenemos 1365 Verdaderos positivos y 277 Verdaderos negativos"
      ],
      "metadata": {
        "id": "rxKwhEAMm3ZO"
      }
    },
    {
      "cell_type": "code",
      "source": [
        "#9\n",
        "TE=(FN+FP)/(VN+FP+FN+VP)\n",
        "print(\"la tasa de error es:\\n\", TE)\n",
        "\n",
        "#10\n",
        "Sen=VP/(VP+FN)\n",
        "print(\"la sensibilidad es:\\n\", Sen)\n",
        "\n",
        "#11\n",
        "Pre=VP/(VP+FP)\n",
        "print(\"la precision es:\\n\", Pre)"
      ],
      "metadata": {
        "colab": {
          "base_uri": "https://localhost:8080/"
        },
        "id": "qyW-jpvw-7hf",
        "outputId": "3f813e94-d633-4a3d-b227-2363a8988e96"
      },
      "execution_count": 8,
      "outputs": [
        {
          "output_type": "stream",
          "name": "stdout",
          "text": [
            "la tasa de error es:\n",
            " 0.21095627102354636\n",
            "la sensibilidad es:\n",
            " 0.5528942115768463\n",
            "la precision es:\n",
            " 0.5630081300813008\n"
          ]
        }
      ]
    },
    {
      "cell_type": "markdown",
      "source": [
        "Encontramos que la sensibilidad y la precisión son muy bajas, por lo que podemos decir que al modelo le cuesta identificar correctamente que tipo de autopista fue la del accidente."
      ],
      "metadata": {
        "id": "idmxH4ITpFsE"
      }
    },
    {
      "cell_type": "code",
      "source": [
        "#12 Caso\n",
        "XS=[[5,1,1,3,4,0]]\n",
        "mnb.predict(XS)"
      ],
      "metadata": {
        "colab": {
          "base_uri": "https://localhost:8080/"
        },
        "id": "qa-TFPGb_yw7",
        "outputId": "5b1be66a-5281-41cb-b327-aa4ddf2503c0"
      },
      "execution_count": 9,
      "outputs": [
        {
          "output_type": "stream",
          "name": "stderr",
          "text": [
            "/usr/local/lib/python3.11/dist-packages/sklearn/utils/validation.py:2739: UserWarning: X does not have valid feature names, but GaussianNB was fitted with feature names\n",
            "  warnings.warn(\n"
          ]
        },
        {
          "output_type": "execute_result",
          "data": {
            "text/plain": [
              "array([0])"
            ]
          },
          "metadata": {},
          "execution_count": 9
        }
      ]
    },
    {
      "cell_type": "markdown",
      "source": [
        "El resultado indica que idealmente un accidente de estas características ocurre fuera de carretera"
      ],
      "metadata": {
        "id": "6y_9qcKDn9uR"
      }
    }
  ]
}