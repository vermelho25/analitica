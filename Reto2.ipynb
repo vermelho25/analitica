{
  "nbformat": 4,
  "nbformat_minor": 0,
  "metadata": {
    "colab": {
      "provenance": [],
      "include_colab_link": true
    },
    "kernelspec": {
      "name": "python3",
      "display_name": "Python 3"
    },
    "language_info": {
      "name": "python"
    }
  },
  "cells": [
    {
      "cell_type": "markdown",
      "metadata": {
        "id": "view-in-github",
        "colab_type": "text"
      },
      "source": [
        "<a href=\"https://colab.research.google.com/github/vermelho25/analitica/blob/main/Reto2.ipynb\" target=\"_parent\"><img src=\"https://colab.research.google.com/assets/colab-badge.svg\" alt=\"Open In Colab\"/></a>"
      ]
    },
    {
      "cell_type": "code",
      "execution_count": null,
      "metadata": {
        "id": "vjop8yBd3tkb"
      },
      "outputs": [],
      "source": [
        "import numpy as np\n",
        "import pandas as pd"
      ]
    },
    {
      "cell_type": "code",
      "source": [
        "#Para implementación y evaluación del modelo\n",
        "from sklearn.tree import DecisionTreeClassifier\n",
        "from sklearn.metrics import confusion_matrix"
      ],
      "metadata": {
        "id": "igowFRCt0e6F"
      },
      "execution_count": null,
      "outputs": []
    },
    {
      "cell_type": "code",
      "source": [
        "nxl = '/content/sample_data/2. TechSalesReport_Int_L.xlsx'\n",
        "df = pd.read_excel(nxl,sheet_name=0)\n",
        "\n"
      ],
      "metadata": {
        "id": "AKXZ2550kLlD"
      },
      "execution_count": null,
      "outputs": []
    },
    {
      "cell_type": "code",
      "source": [
        "df2 = df[['Business', 'Age', 'Female', 'Years','Certificates', 'Feedback','Salary','NPS','College']]"
      ],
      "metadata": {
        "id": "28e9OpfIlsIn"
      },
      "execution_count": null,
      "outputs": []
    },
    {
      "cell_type": "code",
      "source": [
        "df2['Business'] = df2['Business'].map({'Hardware': 0, 'Software': 1})\n",
        "df2['College'] = df2['College'].map({'Yes': 1, 'No': 0})"
      ],
      "metadata": {
        "colab": {
          "base_uri": "https://localhost:8080/"
        },
        "id": "FYGXpoVpmmY7",
        "outputId": "caf1d15f-7bda-482d-d59f-835579d80eaf"
      },
      "execution_count": null,
      "outputs": [
        {
          "output_type": "stream",
          "name": "stderr",
          "text": [
            "<ipython-input-7-2fda56836961>:1: SettingWithCopyWarning: \n",
            "A value is trying to be set on a copy of a slice from a DataFrame.\n",
            "Try using .loc[row_indexer,col_indexer] = value instead\n",
            "\n",
            "See the caveats in the documentation: https://pandas.pydata.org/pandas-docs/stable/user_guide/indexing.html#returning-a-view-versus-a-copy\n",
            "  df2['Business'] = df2['Business'].map({'Hardware': 0, 'Software': 1})\n",
            "<ipython-input-7-2fda56836961>:2: SettingWithCopyWarning: \n",
            "A value is trying to be set on a copy of a slice from a DataFrame.\n",
            "Try using .loc[row_indexer,col_indexer] = value instead\n",
            "\n",
            "See the caveats in the documentation: https://pandas.pydata.org/pandas-docs/stable/user_guide/indexing.html#returning-a-view-versus-a-copy\n",
            "  df2['College'] = df2['College'].map({'Yes': 1, 'No': 0})\n"
          ]
        }
      ]
    },
    {
      "cell_type": "code",
      "source": [
        "XD=df2[['Business', 'Age', 'Female', 'Years','Certificates', 'Feedback','Salary','NPS']]\n",
        "yd=df2[['College']]"
      ],
      "metadata": {
        "id": "cycrIcYGo7ES"
      },
      "execution_count": null,
      "outputs": []
    },
    {
      "cell_type": "code",
      "source": [
        "mar=DecisionTreeClassifier(criterion='gini',max_depth=4)\n",
        "#Max Depth es el número de variables disponibles\n",
        "#Gini es el criterio que indica el grado de error en el modelo\n",
        "\n",
        "mar.fit(XD,yd)\n",
        "\n",
        "#Se procede con el despliegue del arbol de decisión\n",
        "from sklearn.tree import export_graphviz #Exportar\n",
        "from pydotplus import graph_from_dot_data #Crear el gráfico\n",
        "\n",
        "vs=['Business', 'Age', 'Female', 'Years','Certificates', 'Feedback','Salary','NPS']\n",
        "dot_data=export_graphviz(mar,feature_names=vs)\n",
        "graph=graph_from_dot_data(dot_data)\n",
        "graph.write_png('1.TechSalesReport.png')"
      ],
      "metadata": {
        "colab": {
          "base_uri": "https://localhost:8080/"
        },
        "id": "i8tICI3yrP_F",
        "outputId": "210cce3e-9f52-48cb-fe37-931c56dca755"
      },
      "execution_count": null,
      "outputs": [
        {
          "output_type": "execute_result",
          "data": {
            "text/plain": [
              "True"
            ]
          },
          "metadata": {},
          "execution_count": 9
        }
      ]
    },
    {
      "cell_type": "code",
      "source": [
        "ydp=mar.predict(XD)\n",
        "cm=confusion_matrix(yd,ydp)\n",
        "print(cm)\n",
        "\n",
        "VN=cm[0,0]; FP=cm[0,1]; FN=cm[1,0]; VP=cm[1,1]"
      ],
      "metadata": {
        "colab": {
          "base_uri": "https://localhost:8080/"
        },
        "id": "ToSDYTJqwiF3",
        "outputId": "b6606975-3754-458c-c0fa-206cadc7ee5d"
      },
      "execution_count": null,
      "outputs": [
        {
          "output_type": "stream",
          "name": "stdout",
          "text": [
            "[[  114  4356]\n",
            " [   69 17451]]\n"
          ]
        }
      ]
    },
    {
      "cell_type": "code",
      "source": [
        "Exactitud=(VP+VN)/(VP+VN+FP+FN) #Funcionamiento general\n",
        "print(\"La exactitud es:\\n\",Exactitud)\n",
        "Sensibilidad=VP/(VP+FN) #Como se comporto el modelo con los aprobados\n",
        "print(\"La sensibilidad es:\\n\",Sensibilidad)\n",
        "Especificidad=VN/(VN+FP) #Como se comporto el modelo con los negados\n",
        "print(\"La especificidad es:\\n\",Especificidad)\n",
        "Precision=VP/(VP+FP) #Cual es el acierto clasificando los positivos\n",
        "print(\"La precisión es:\\n\",Precision)\n",
        "TasaError=(FP+FN)/(VP+VN+FP+FN) #Equivocación general\n",
        "print(\"La tasa de error es:\\n\",TasaError)\n",
        "PredNeg=VN/(VN+FN) #Como funciona el modelo negando créditos\n",
        "print(\"La tasa de predicción negativa es:\\n\",PredNeg)"
      ],
      "metadata": {
        "colab": {
          "base_uri": "https://localhost:8080/"
        },
        "id": "3DypwGzKw0P7",
        "outputId": "d2c0b115-5a52-4029-d838-5d69ab689906"
      },
      "execution_count": null,
      "outputs": [
        {
          "output_type": "stream",
          "name": "stdout",
          "text": [
            "La exactitud es:\n",
            " 0.7987721691678036\n",
            "La sensibilidad es:\n",
            " 0.9960616438356165\n",
            "La especificidad es:\n",
            " 0.025503355704697986\n",
            "La precisión es:\n",
            " 0.8002476269087908\n",
            "La tasa de error es:\n",
            " 0.20122783083219645\n",
            "La tasa de predicción negativa es:\n",
            " 0.6229508196721312\n"
          ]
        }
      ]
    },
    {
      "cell_type": "code",
      "source": [
        "# Se toma la totalidad de los solicitantes desde la nueva hoja con 16 datos\n",
        "XDB2 = pd.read_excel(nxl, sheet_name=1)\n",
        "XDB2.head(16)  # Solo se muestran los 16 datos\n",
        "\n",
        "# Variable objetivo (College)\n",
        "yd2 = XDB2[['College']]\n",
        "yd2.head(16)\n",
        "\n",
        "# Identificar las filas sin información en College\n",
        "filas = np.where(np.isnan(yd2))[0]\n",
        "print(\"Las filas que no poseen información:\", filas)\n",
        "\n",
        "# Seleccionar las variables para el pronóstico (sin incluir College)\n",
        "XD2 = XDB2[['Business', 'Age', 'Female', 'Years','Certificates', 'Feedback','Salary','NPS']]\n",
        "XD2['Business'] = XDB2['Business'].map({'Hardware': 0, 'Software': 1})\n",
        "XD2 = XD2.iloc[filas, :]  # Filtrar solo las filas sin datos en College\n",
        "\n",
        "\n",
        "# Realizar el pronóstico con el árbol de decisión ya montado\n",
        "ydp2=mar.predict(XD2)\n",
        "print('Pronóstico:', ydp2)\n",
        "\n",
        "# Crear el informe con los resultados\n",
        "dfp = pd.DataFrame(np.column_stack((filas, XD2, ydp2)))\n",
        "dfp.columns = ['Filas','Business','Age','Female','Years','Certificates','Feedback','Salary','NPS','College']\n",
        "dfp.head(16)\n",
        "\n",
        "# Guardar el informe en Excel\n",
        "dfp.to_excel('InformeCollege.xlsx', index=False)\n",
        "print(\"Las predicciones son:\\n\", ydp2)\n",
        "\n",
        "# Contar los pronósticos de personas con y sin título universitario\n",
        "print(\"Los sin título pronosticados son:\", len(np.where(ydp2 == 0)[0]))\n",
        "print(\"Los con título pronosticados son:\", len(np.where(ydp2 == 1)[0]))"
      ],
      "metadata": {
        "colab": {
          "base_uri": "https://localhost:8080/"
        },
        "id": "oGebtI5Cj-Eu",
        "outputId": "793f7631-5473-4d1f-f778-00ae95e82243"
      },
      "execution_count": null,
      "outputs": [
        {
          "output_type": "stream",
          "name": "stdout",
          "text": [
            "Las filas que no poseen información: [ 0  1  2  3  4  5  6  7  8  9 10 11 12 13 14 15]\n",
            "Pronóstico: [1 1 1 1 1 1 1 1 1 1 1 1 1 1 1 1]\n",
            "Las predicciones son:\n",
            " [1 1 1 1 1 1 1 1 1 1 1 1 1 1 1 1]\n",
            "Los sin título pronosticados son: 0\n",
            "Los con título pronosticados son: 16\n"
          ]
        },
        {
          "output_type": "stream",
          "name": "stderr",
          "text": [
            "<ipython-input-22-c0e97c17113c>:15: SettingWithCopyWarning: \n",
            "A value is trying to be set on a copy of a slice from a DataFrame.\n",
            "Try using .loc[row_indexer,col_indexer] = value instead\n",
            "\n",
            "See the caveats in the documentation: https://pandas.pydata.org/pandas-docs/stable/user_guide/indexing.html#returning-a-view-versus-a-copy\n",
            "  XD2['Business'] = XDB2['Business'].map({'Hardware': 0, 'Software': 1})\n"
          ]
        }
      ]
    },
    {
      "cell_type": "markdown",
      "source": [
        "Luego de la ejecución del modelo, se obtuvo una exactitud del 79.88%, lo que indica un desempeño aceptable en el pronóstico.\n",
        "\n",
        "Es importante destacar que el coeficiente de sensibilidad fue 99.61%, lo que significa que el modelo tiene una alta capacidad para identificar correctamente a las personas que sí poseen un título universitario. Sin embargo, la especificidad fue 2.55%, lo que indica que el modelo tiene dificultades para identificar correctamente a las personas que no poseen un título.\n",
        "\n",
        "Por otro lado, la precisión del modelo fue de 80.02%, lo que indica que, de todas las personas que fueron clasificadas como poseedoras de un título universitario, el 80% realmente lo tiene.\n",
        "\n",
        "No obstante, la tasa de predicción negativa se ubicó en 62.29%, lo que sugiere que el modelo tiene una capacidad limitada para predecir correctamente a quienes no tienen un título universitario.\n",
        "\n",
        "De la base de datos que había por pronosticar, los 16 individuos resultaron ser poseedores de títulos universitarios, absolutamente todos según el modelo.\n",
        "\n",
        "\n",
        "\n",
        "\n",
        "\n",
        "\n",
        "\n"
      ],
      "metadata": {
        "id": "MyPqdw06WOQT"
      }
    }
  ]
}